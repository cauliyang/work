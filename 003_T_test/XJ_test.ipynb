{
 "cells": [
  {
   "cell_type": "code",
   "execution_count": 30,
   "metadata": {
    "ExecuteTime": {
     "end_time": "2019-10-12T08:10:40.934099Z",
     "start_time": "2019-10-12T08:10:40.885174Z"
    }
   },
   "outputs": [],
   "source": [
    "# 导入模块\n",
    "import pandas as pd\n",
    "import numpy as np\n",
    "from scipy.stats import ttest_ind as ttest\n",
    "from scipy.stats import levene as f\n",
    "from itertools import product\n",
    "\n",
    "\n",
    "# 定义函数\n",
    "def init_alp(cutoff):\n",
    "    alp_lower = [chr(a) for a in range(ord('a'), ord('z') + 1)]\n",
    "    alp_upper = [chr(a) for a in range(ord('A'), ord('Z') + 1)]\n",
    "    re_list = []\n",
    "    if cutoff == 0.05:\n",
    "        re_list.append(alp_lower[0])\n",
    "        return re_list, alp_lower\n",
    "    elif cutoff == 0.01:\n",
    "        re_list.append(alp_upper[0])\n",
    "        return re_list, alp_upper\n",
    "\n",
    "\n",
    "# t_test function\n",
    "def tt(A, B):\n",
    "    f_p = f(A, B).pvalue\n",
    "    if f_p <= 0.05:\n",
    "        t_p = ttest(A, B, equal_var=False).pvalue\n",
    "    elif f_p > 0.05:\n",
    "        t_p = ttest(A, B, equal_var=True).pvalue\n",
    "    return t_p\n",
    "\n",
    "\n",
    "# main function\n",
    "def main_cal(cutoff, ind, re_list, alps, pops, df_t):\n",
    "\n",
    "    pop_ind = None\n",
    "\n",
    "    alp_ind = alps.index(re_list[ind])\n",
    "\n",
    "    fix = pops[ind]\n",
    "    fix_phe = df_t.set_index(\"Lines\").loc[fix].values.flatten()\n",
    "\n",
    "    res = pops[ind + 1:]\n",
    "    for pop in res:\n",
    "\n",
    "        pop_phe = df_t.set_index(\"Lines\").loc[pop].values.flatten()\n",
    "        t_p = tt(fix_phe, pop_phe)\n",
    "\n",
    "        if t_p <= cutoff:\n",
    "\n",
    "            add_alp = alps[alp_ind + 1]\n",
    "\n",
    "            re_list.append(add_alp)\n",
    "\n",
    "            pop_ind = pops.index(pop)\n",
    "\n",
    "            up_pops = pops[:pop_ind]\n",
    "\n",
    "            # up trace\n",
    "            for up_ind, up_pop in enumerate(up_pops):\n",
    "                up_phe = df_t.set_index(\"Lines\").loc[up_pop].values.flatten()\n",
    "                t_p_2 = tt(up_phe, pop_phe)\n",
    "                if t_p_2 <= cutoff:\n",
    "                    pass\n",
    "                elif t_p_2 > cutoff:\n",
    "                    re_list[up_ind] = re_list[up_ind] + add_alp\n",
    "            break\n",
    "        elif t_p > cutoff:\n",
    "            re_list.append(alps[alp_ind])\n",
    "    return pop_ind, re_list\n",
    "\n",
    "\n",
    "def main_cal_2(cutoff, df, p):\n",
    "    re_list, alps = init_alp(cutoff)\n",
    "    ind = 0\n",
    "    while True:\n",
    "        ind, re_list = main_cal(cutoff=cutoff,\n",
    "                                ind=ind,\n",
    "                                re_list=re_list,\n",
    "                                alps=alps,\n",
    "                                pops=p,\n",
    "                                df_t=df)\n",
    "        if ind is None:\n",
    "            break\n",
    "    return re_list\n",
    "\n",
    "\n",
    "def main_cal_3():\n",
    "    df = pd.read_excel('range.xlsx', sheet_name='Sheet1')\n",
    "\n",
    "    col_num = df.shape[1]\n",
    "\n",
    "    df.dropna(thresh=col_num - 1, inplace=True)\n",
    "\n",
    "    df.fillna(method='ffill', inplace=True)\n",
    "\n",
    "    traits = df.columns[1:]\n",
    "    new_file = open('./p_value.txt', 'w')\n",
    "    new_file.write('L_1\\tL_2\\tP\\tTrait\\n')\n",
    "    # cal p_value\n",
    "\n",
    "    #   pcik up one trait for experiment\n",
    "    for trait in traits:\n",
    "        df_t = df.loc[:, ['Lines', trait]]\n",
    "\n",
    "        df_re = df_t.groupby(by=\"Lines\").mean().sort_values(\n",
    "            by=trait, ascending=False).rename({trait: 'Mean'}, axis=1)\n",
    "\n",
    "        pops = list(df_re.index)\n",
    "\n",
    "        t_1 = list(product(pops, pops))\n",
    "        for x, y in t_1:\n",
    "            x_p = df_t.set_index(\"Lines\").loc[x].values.flatten()\n",
    "            y_p = df_t.set_index(\"Lines\").loc[y].values.flatten()\n",
    "            t_p_2 = tt(x_p, y_p)\n",
    "            new_file.write(f'{x}\\t{y}\\t{t_p_2}\\t{trait}\\n')\n",
    "\n",
    "        re_a = main_cal_2(0.05, df=df_t, p=pops)\n",
    "\n",
    "        re_b = main_cal_2(0.01, df=df_t, p=pops)\n",
    "\n",
    "        df_re['p_0.05'] = re_a\n",
    "\n",
    "        df_re['p_0.01'] = re_b\n",
    "\n",
    "        df_re['trait'] = trait\n",
    "        yield df_re\n",
    "    new_file.close()\n",
    "\n",
    "\n",
    "def main():\n",
    "    a = main_cal_3()\n",
    "\n",
    "    dd = pd.concat(a)\n",
    "\n",
    "    dd.to_csv('test.csv')"
   ]
  },
  {
   "cell_type": "code",
   "execution_count": 31,
   "metadata": {
    "ExecuteTime": {
     "end_time": "2019-10-12T08:10:43.227738Z",
     "start_time": "2019-10-12T08:10:43.223568Z"
    }
   },
   "outputs": [],
   "source": [
    "a = main_cal_3()"
   ]
  },
  {
   "cell_type": "code",
   "execution_count": 32,
   "metadata": {
    "ExecuteTime": {
     "end_time": "2019-10-12T08:10:49.742994Z",
     "start_time": "2019-10-12T08:10:45.155509Z"
    }
   },
   "outputs": [
    {
     "name": "stderr",
     "output_type": "stream",
     "text": [
      "/Users/liyang/miniconda3/envs/work/lib/python3.7/site-packages/scipy/stats/morestats.py:2352: RuntimeWarning: invalid value encountered in double_scalars\n",
      "  W = numer / denom\n"
     ]
    },
    {
     "ename": "UnboundLocalError",
     "evalue": "local variable 't_p' referenced before assignment",
     "output_type": "error",
     "traceback": [
      "\u001b[0;31m---------------------------------------------------------------------------\u001b[0m",
      "\u001b[0;31mUnboundLocalError\u001b[0m                         Traceback (most recent call last)",
      "\u001b[0;32m<ipython-input-32-823d71d7017b>\u001b[0m in \u001b[0;36m<module>\u001b[0;34m\u001b[0m\n\u001b[0;32m----> 1\u001b[0;31m \u001b[0mdd\u001b[0m \u001b[0;34m=\u001b[0m \u001b[0mpd\u001b[0m\u001b[0;34m.\u001b[0m\u001b[0mconcat\u001b[0m\u001b[0;34m(\u001b[0m\u001b[0ma\u001b[0m\u001b[0;34m)\u001b[0m\u001b[0;34m\u001b[0m\u001b[0;34m\u001b[0m\u001b[0m\n\u001b[0m",
      "\u001b[0;32m~/miniconda3/envs/work/lib/python3.7/site-packages/pandas/core/reshape/concat.py\u001b[0m in \u001b[0;36mconcat\u001b[0;34m(objs, axis, join, join_axes, ignore_index, keys, levels, names, verify_integrity, sort, copy)\u001b[0m\n\u001b[1;32m    253\u001b[0m         \u001b[0mverify_integrity\u001b[0m\u001b[0;34m=\u001b[0m\u001b[0mverify_integrity\u001b[0m\u001b[0;34m,\u001b[0m\u001b[0;34m\u001b[0m\u001b[0;34m\u001b[0m\u001b[0m\n\u001b[1;32m    254\u001b[0m         \u001b[0mcopy\u001b[0m\u001b[0;34m=\u001b[0m\u001b[0mcopy\u001b[0m\u001b[0;34m,\u001b[0m\u001b[0;34m\u001b[0m\u001b[0;34m\u001b[0m\u001b[0m\n\u001b[0;32m--> 255\u001b[0;31m         \u001b[0msort\u001b[0m\u001b[0;34m=\u001b[0m\u001b[0msort\u001b[0m\u001b[0;34m,\u001b[0m\u001b[0;34m\u001b[0m\u001b[0;34m\u001b[0m\u001b[0m\n\u001b[0m\u001b[1;32m    256\u001b[0m     )\n\u001b[1;32m    257\u001b[0m \u001b[0;34m\u001b[0m\u001b[0m\n",
      "\u001b[0;32m~/miniconda3/envs/work/lib/python3.7/site-packages/pandas/core/reshape/concat.py\u001b[0m in \u001b[0;36m__init__\u001b[0;34m(self, objs, axis, join, join_axes, keys, levels, names, ignore_index, verify_integrity, copy, sort)\u001b[0m\n\u001b[1;32m    299\u001b[0m             \u001b[0mobjs\u001b[0m \u001b[0;34m=\u001b[0m \u001b[0;34m[\u001b[0m\u001b[0mobjs\u001b[0m\u001b[0;34m[\u001b[0m\u001b[0mk\u001b[0m\u001b[0;34m]\u001b[0m \u001b[0;32mfor\u001b[0m \u001b[0mk\u001b[0m \u001b[0;32min\u001b[0m \u001b[0mkeys\u001b[0m\u001b[0;34m]\u001b[0m\u001b[0;34m\u001b[0m\u001b[0;34m\u001b[0m\u001b[0m\n\u001b[1;32m    300\u001b[0m         \u001b[0;32melse\u001b[0m\u001b[0;34m:\u001b[0m\u001b[0;34m\u001b[0m\u001b[0;34m\u001b[0m\u001b[0m\n\u001b[0;32m--> 301\u001b[0;31m             \u001b[0mobjs\u001b[0m \u001b[0;34m=\u001b[0m \u001b[0mlist\u001b[0m\u001b[0;34m(\u001b[0m\u001b[0mobjs\u001b[0m\u001b[0;34m)\u001b[0m\u001b[0;34m\u001b[0m\u001b[0;34m\u001b[0m\u001b[0m\n\u001b[0m\u001b[1;32m    302\u001b[0m \u001b[0;34m\u001b[0m\u001b[0m\n\u001b[1;32m    303\u001b[0m         \u001b[0;32mif\u001b[0m \u001b[0mlen\u001b[0m\u001b[0;34m(\u001b[0m\u001b[0mobjs\u001b[0m\u001b[0;34m)\u001b[0m \u001b[0;34m==\u001b[0m \u001b[0;36m0\u001b[0m\u001b[0;34m:\u001b[0m\u001b[0;34m\u001b[0m\u001b[0;34m\u001b[0m\u001b[0m\n",
      "\u001b[0;32m<ipython-input-30-b7fe5a23c82e>\u001b[0m in \u001b[0;36mmain_cal_3\u001b[0;34m()\u001b[0m\n\u001b[1;32m    112\u001b[0m             \u001b[0mx_p\u001b[0m \u001b[0;34m=\u001b[0m \u001b[0mdf_t\u001b[0m\u001b[0;34m.\u001b[0m\u001b[0mset_index\u001b[0m\u001b[0;34m(\u001b[0m\u001b[0;34m\"Lines\"\u001b[0m\u001b[0;34m)\u001b[0m\u001b[0;34m.\u001b[0m\u001b[0mloc\u001b[0m\u001b[0;34m[\u001b[0m\u001b[0mx\u001b[0m\u001b[0;34m]\u001b[0m\u001b[0;34m.\u001b[0m\u001b[0mvalues\u001b[0m\u001b[0;34m.\u001b[0m\u001b[0mflatten\u001b[0m\u001b[0;34m(\u001b[0m\u001b[0;34m)\u001b[0m\u001b[0;34m\u001b[0m\u001b[0;34m\u001b[0m\u001b[0m\n\u001b[1;32m    113\u001b[0m             \u001b[0my_p\u001b[0m \u001b[0;34m=\u001b[0m \u001b[0mdf_t\u001b[0m\u001b[0;34m.\u001b[0m\u001b[0mset_index\u001b[0m\u001b[0;34m(\u001b[0m\u001b[0;34m\"Lines\"\u001b[0m\u001b[0;34m)\u001b[0m\u001b[0;34m.\u001b[0m\u001b[0mloc\u001b[0m\u001b[0;34m[\u001b[0m\u001b[0my\u001b[0m\u001b[0;34m]\u001b[0m\u001b[0;34m.\u001b[0m\u001b[0mvalues\u001b[0m\u001b[0;34m.\u001b[0m\u001b[0mflatten\u001b[0m\u001b[0;34m(\u001b[0m\u001b[0;34m)\u001b[0m\u001b[0;34m\u001b[0m\u001b[0;34m\u001b[0m\u001b[0m\n\u001b[0;32m--> 114\u001b[0;31m             \u001b[0mt_p_2\u001b[0m \u001b[0;34m=\u001b[0m \u001b[0mtt\u001b[0m\u001b[0;34m(\u001b[0m\u001b[0mx_p\u001b[0m\u001b[0;34m,\u001b[0m \u001b[0my_p\u001b[0m\u001b[0;34m)\u001b[0m\u001b[0;34m\u001b[0m\u001b[0;34m\u001b[0m\u001b[0m\n\u001b[0m\u001b[1;32m    115\u001b[0m             \u001b[0mnew_file\u001b[0m\u001b[0;34m.\u001b[0m\u001b[0mwrite\u001b[0m\u001b[0;34m(\u001b[0m\u001b[0;34mf'{x}\\t{y}\\t{t_p_2}\\t{trait}\\n'\u001b[0m\u001b[0;34m)\u001b[0m\u001b[0;34m\u001b[0m\u001b[0;34m\u001b[0m\u001b[0m\n\u001b[1;32m    116\u001b[0m \u001b[0;34m\u001b[0m\u001b[0m\n",
      "\u001b[0;32m<ipython-input-30-b7fe5a23c82e>\u001b[0m in \u001b[0;36mtt\u001b[0;34m(A, B)\u001b[0m\n\u001b[1;32m     27\u001b[0m     \u001b[0;32melif\u001b[0m \u001b[0mf_p\u001b[0m \u001b[0;34m>\u001b[0m \u001b[0;36m0.05\u001b[0m\u001b[0;34m:\u001b[0m\u001b[0;34m\u001b[0m\u001b[0;34m\u001b[0m\u001b[0m\n\u001b[1;32m     28\u001b[0m         \u001b[0mt_p\u001b[0m \u001b[0;34m=\u001b[0m \u001b[0mttest\u001b[0m\u001b[0;34m(\u001b[0m\u001b[0mA\u001b[0m\u001b[0;34m,\u001b[0m \u001b[0mB\u001b[0m\u001b[0;34m,\u001b[0m \u001b[0mequal_var\u001b[0m\u001b[0;34m=\u001b[0m\u001b[0;32mTrue\u001b[0m\u001b[0;34m)\u001b[0m\u001b[0;34m.\u001b[0m\u001b[0mpvalue\u001b[0m\u001b[0;34m\u001b[0m\u001b[0;34m\u001b[0m\u001b[0m\n\u001b[0;32m---> 29\u001b[0;31m     \u001b[0;32mreturn\u001b[0m \u001b[0mt_p\u001b[0m\u001b[0;34m\u001b[0m\u001b[0;34m\u001b[0m\u001b[0m\n\u001b[0m\u001b[1;32m     30\u001b[0m \u001b[0;34m\u001b[0m\u001b[0m\n\u001b[1;32m     31\u001b[0m \u001b[0;34m\u001b[0m\u001b[0m\n",
      "\u001b[0;31mUnboundLocalError\u001b[0m: local variable 't_p' referenced before assignment"
     ]
    }
   ],
   "source": [
    "dd = pd.concat(a)"
   ]
  },
  {
   "cell_type": "code",
   "execution_count": 11,
   "metadata": {
    "ExecuteTime": {
     "end_time": "2019-10-12T08:07:53.030934Z",
     "start_time": "2019-10-12T08:07:52.991735Z"
    }
   },
   "outputs": [
    {
     "data": {
      "text/plain": [
       "16"
      ]
     },
     "execution_count": 11,
     "metadata": {},
     "output_type": "execute_result"
    }
   ],
   "source": [
    "    df = pd.read_excel('range.xlsx', sheet_name='Sheet1')\n",
    "\n",
    "    col_num = df.shape[1]\n",
    "\n",
    "    df.dropna(thresh=col_num - 1, inplace=True)\n",
    "\n",
    "    df.fillna(method='ffill', inplace=True)\n",
    "\n",
    "    traits = df.columns[1:]\n",
    "    new_file = open('./p_value.txt', 'w')\n",
    "    new_file.write('L_1\\tL_2\\tP\\tTrait\\n')\n",
    "    # cal p_value\n",
    "\n",
    "    #   pcik up one trait for experiment\n",
    "#     for trait in traits:\n",
    "#         df_t = df.loc[:, ['Lines', trait]]\n",
    "\n",
    "#         df_re = df_t.groupby(by=\"Lines\").mean().sort_values(\n",
    "#             by=trait, ascending=False).rename({trait: 'Mean'}, axis=1)\n",
    "\n",
    "#         pops = list(df_re.index)\n",
    "\n",
    "#         t_1 = list(product(pops, pops))\n",
    "#         for x, y in t_1:\n",
    "#             x_p = df_t.set_index(\"Lines\").loc[x].values.flatten()\n",
    "#             y_p = df_t.set_index(\"Lines\").loc[y].values.flatten()\n",
    "#             t_p_2 = tt(x_p, y_p)\n",
    "#             new_file.write(f'{x}\\t{y}\\t{t_p_2}\\t{trait}\\n')\n",
    "\n",
    "#         re_a = main_cal_2(0.05, df=df_t, p=pops)\n",
    "\n",
    "#         re_b = main_cal_2(0.01, df=df_t, p=pops)\n",
    "\n",
    "#         df_re['p_0.05'] = re_a\n",
    "\n",
    "#         df_re['p_0.01'] = re_b\n",
    "\n",
    "#         df_re['trait'] = trait\n",
    "#         yield df_re\n",
    "#     new_file.close()"
   ]
  },
  {
   "cell_type": "code",
   "execution_count": 12,
   "metadata": {
    "ExecuteTime": {
     "end_time": "2019-10-12T08:08:02.356771Z",
     "start_time": "2019-10-12T08:08:02.351270Z"
    }
   },
   "outputs": [
    {
     "data": {
      "text/plain": [
       "Index(['range'], dtype='object')"
      ]
     },
     "execution_count": 12,
     "metadata": {},
     "output_type": "execute_result"
    }
   ],
   "source": [
    "traits"
   ]
  },
  {
   "cell_type": "code",
   "execution_count": 14,
   "metadata": {
    "ExecuteTime": {
     "end_time": "2019-10-12T08:08:23.688431Z",
     "start_time": "2019-10-12T08:08:23.683199Z"
    }
   },
   "outputs": [],
   "source": [
    "trait = traits[0]"
   ]
  },
  {
   "cell_type": "code",
   "execution_count": 15,
   "metadata": {
    "ExecuteTime": {
     "end_time": "2019-10-12T08:08:43.195348Z",
     "start_time": "2019-10-12T08:08:43.179906Z"
    }
   },
   "outputs": [],
   "source": [
    "        df_t = df.loc[:, ['Lines', trait]]\n",
    "\n",
    "        df_re = df_t.groupby(by=\"Lines\").mean().sort_values(\n",
    "            by=trait, ascending=False).rename({trait: 'Mean'}, axis=1)\n",
    "\n",
    "        pops = list(df_re.index)\n",
    "\n",
    "        t_1 = list(product(pops, pops))\n",
    "#         for x, y in t_1:\n",
    "#             x_p = df_t.set_index(\"Lines\").loc[x].values.flatten()\n",
    "#             y_p = df_t.set_index(\"Lines\").loc[y].values.flatten()\n",
    "#             t_p_2 = tt(x_p, y_p)\n",
    "#             new_file.write(f'{x}\\t{y}\\t{t_p_2}\\t{trait}\\n')\n",
    "\n",
    "#         re_a = main_cal_2(0.05, df=df_t, p=pops)\n",
    "\n",
    "#         re_b = main_cal_2(0.01, df=df_t, p=pops)\n",
    "\n",
    "#         df_re['p_0.05'] = re_a\n",
    "\n",
    "#         df_re['p_0.01'] = re_b\n",
    "\n",
    "#         df_re['trait'] = trait\n",
    "#         yield df_re"
   ]
  },
  {
   "cell_type": "code",
   "execution_count": 22,
   "metadata": {
    "ExecuteTime": {
     "end_time": "2019-10-12T08:09:43.918058Z",
     "start_time": "2019-10-12T08:09:43.913190Z"
    }
   },
   "outputs": [],
   "source": [
    "x,y = t_1[1]"
   ]
  },
  {
   "cell_type": "code",
   "execution_count": 23,
   "metadata": {
    "ExecuteTime": {
     "end_time": "2019-10-12T08:09:44.819796Z",
     "start_time": "2019-10-12T08:09:44.813291Z"
    }
   },
   "outputs": [],
   "source": [
    "            x_p = df_t.set_index(\"Lines\").loc[x].values.flatten()\n",
    "            y_p = df_t.set_index(\"Lines\").loc[y].values.flatten()\n",
    "#             t_p_2 = tt(x_p, y_p)"
   ]
  },
  {
   "cell_type": "code",
   "execution_count": 24,
   "metadata": {
    "ExecuteTime": {
     "end_time": "2019-10-12T08:09:45.416069Z",
     "start_time": "2019-10-12T08:09:45.408947Z"
    }
   },
   "outputs": [
    {
     "data": {
      "text/plain": [
       "array([15, 25, 19])"
      ]
     },
     "execution_count": 24,
     "metadata": {},
     "output_type": "execute_result"
    }
   ],
   "source": [
    "x_p\n"
   ]
  },
  {
   "cell_type": "code",
   "execution_count": 25,
   "metadata": {
    "ExecuteTime": {
     "end_time": "2019-10-12T08:09:45.942828Z",
     "start_time": "2019-10-12T08:09:45.924230Z"
    }
   },
   "outputs": [
    {
     "data": {
      "text/plain": [
       "array([16, 15, 25])"
      ]
     },
     "execution_count": 25,
     "metadata": {},
     "output_type": "execute_result"
    }
   ],
   "source": [
    "y_p"
   ]
  },
  {
   "cell_type": "code",
   "execution_count": 26,
   "metadata": {
    "ExecuteTime": {
     "end_time": "2019-10-12T08:09:46.916230Z",
     "start_time": "2019-10-12T08:09:46.909056Z"
    }
   },
   "outputs": [
    {
     "data": {
      "text/plain": [
       "0.8278173421965245"
      ]
     },
     "execution_count": 26,
     "metadata": {},
     "output_type": "execute_result"
    }
   ],
   "source": [
    "tt(x_p,y_p)"
   ]
  },
  {
   "cell_type": "code",
   "execution_count": 27,
   "metadata": {
    "ExecuteTime": {
     "end_time": "2019-10-12T08:10:06.862467Z",
     "start_time": "2019-10-12T08:10:06.851174Z"
    }
   },
   "outputs": [
    {
     "ename": "NameError",
     "evalue": "name 'df_T' is not defined",
     "output_type": "error",
     "traceback": [
      "\u001b[0;31m---------------------------------------------------------------------------\u001b[0m",
      "\u001b[0;31mNameError\u001b[0m                                 Traceback (most recent call last)",
      "\u001b[0;32m<ipython-input-27-b747047e326b>\u001b[0m in \u001b[0;36m<module>\u001b[0;34m\u001b[0m\n\u001b[0;32m----> 1\u001b[0;31m \u001b[0mdf_T\u001b[0m\u001b[0;34m\u001b[0m\u001b[0;34m\u001b[0m\u001b[0m\n\u001b[0m",
      "\u001b[0;31mNameError\u001b[0m: name 'df_T' is not defined"
     ]
    }
   ],
   "source": [
    "df_T"
   ]
  },
  {
   "cell_type": "code",
   "execution_count": 28,
   "metadata": {
    "ExecuteTime": {
     "end_time": "2019-10-12T08:10:10.160132Z",
     "start_time": "2019-10-12T08:10:10.144568Z"
    }
   },
   "outputs": [
    {
     "data": {
      "text/html": [
       "<div>\n",
       "<style scoped>\n",
       "    .dataframe tbody tr th:only-of-type {\n",
       "        vertical-align: middle;\n",
       "    }\n",
       "\n",
       "    .dataframe tbody tr th {\n",
       "        vertical-align: top;\n",
       "    }\n",
       "\n",
       "    .dataframe thead th {\n",
       "        text-align: right;\n",
       "    }\n",
       "</style>\n",
       "<table border=\"1\" class=\"dataframe\">\n",
       "  <thead>\n",
       "    <tr style=\"text-align: right;\">\n",
       "      <th></th>\n",
       "      <th>Lines</th>\n",
       "      <th>range</th>\n",
       "    </tr>\n",
       "  </thead>\n",
       "  <tbody>\n",
       "    <tr>\n",
       "      <th>0</th>\n",
       "      <td>I12</td>\n",
       "      <td>13</td>\n",
       "    </tr>\n",
       "    <tr>\n",
       "      <th>1</th>\n",
       "      <td>I12</td>\n",
       "      <td>13</td>\n",
       "    </tr>\n",
       "    <tr>\n",
       "      <th>2</th>\n",
       "      <td>I12</td>\n",
       "      <td>9</td>\n",
       "    </tr>\n",
       "    <tr>\n",
       "      <th>3</th>\n",
       "      <td>I66</td>\n",
       "      <td>15</td>\n",
       "    </tr>\n",
       "    <tr>\n",
       "      <th>4</th>\n",
       "      <td>I66</td>\n",
       "      <td>11</td>\n",
       "    </tr>\n",
       "    <tr>\n",
       "      <th>5</th>\n",
       "      <td>I66</td>\n",
       "      <td>11</td>\n",
       "    </tr>\n",
       "    <tr>\n",
       "      <th>6</th>\n",
       "      <td>I13</td>\n",
       "      <td>9</td>\n",
       "    </tr>\n",
       "    <tr>\n",
       "      <th>7</th>\n",
       "      <td>I13</td>\n",
       "      <td>9</td>\n",
       "    </tr>\n",
       "    <tr>\n",
       "      <th>8</th>\n",
       "      <td>I13</td>\n",
       "      <td>8</td>\n",
       "    </tr>\n",
       "    <tr>\n",
       "      <th>9</th>\n",
       "      <td>I68</td>\n",
       "      <td>11</td>\n",
       "    </tr>\n",
       "    <tr>\n",
       "      <th>10</th>\n",
       "      <td>I68</td>\n",
       "      <td>11</td>\n",
       "    </tr>\n",
       "    <tr>\n",
       "      <th>11</th>\n",
       "      <td>I68</td>\n",
       "      <td>16</td>\n",
       "    </tr>\n",
       "    <tr>\n",
       "      <th>12</th>\n",
       "      <td>I105</td>\n",
       "      <td>16</td>\n",
       "    </tr>\n",
       "    <tr>\n",
       "      <th>13</th>\n",
       "      <td>I105</td>\n",
       "      <td>15</td>\n",
       "    </tr>\n",
       "    <tr>\n",
       "      <th>14</th>\n",
       "      <td>I105</td>\n",
       "      <td>25</td>\n",
       "    </tr>\n",
       "    <tr>\n",
       "      <th>15</th>\n",
       "      <td>I112</td>\n",
       "      <td>15</td>\n",
       "    </tr>\n",
       "    <tr>\n",
       "      <th>16</th>\n",
       "      <td>I112</td>\n",
       "      <td>13</td>\n",
       "    </tr>\n",
       "    <tr>\n",
       "      <th>17</th>\n",
       "      <td>I112</td>\n",
       "      <td>10</td>\n",
       "    </tr>\n",
       "    <tr>\n",
       "      <th>18</th>\n",
       "      <td>I20</td>\n",
       "      <td>14</td>\n",
       "    </tr>\n",
       "    <tr>\n",
       "      <th>19</th>\n",
       "      <td>I20</td>\n",
       "      <td>14</td>\n",
       "    </tr>\n",
       "    <tr>\n",
       "      <th>20</th>\n",
       "      <td>I20</td>\n",
       "      <td>11</td>\n",
       "    </tr>\n",
       "    <tr>\n",
       "      <th>21</th>\n",
       "      <td>I49</td>\n",
       "      <td>12</td>\n",
       "    </tr>\n",
       "    <tr>\n",
       "      <th>22</th>\n",
       "      <td>I49</td>\n",
       "      <td>13</td>\n",
       "    </tr>\n",
       "    <tr>\n",
       "      <th>23</th>\n",
       "      <td>I49</td>\n",
       "      <td>15</td>\n",
       "    </tr>\n",
       "    <tr>\n",
       "      <th>24</th>\n",
       "      <td>I17</td>\n",
       "      <td>13</td>\n",
       "    </tr>\n",
       "    <tr>\n",
       "      <th>25</th>\n",
       "      <td>I17</td>\n",
       "      <td>12</td>\n",
       "    </tr>\n",
       "    <tr>\n",
       "      <th>26</th>\n",
       "      <td>I17</td>\n",
       "      <td>20</td>\n",
       "    </tr>\n",
       "    <tr>\n",
       "      <th>27</th>\n",
       "      <td>I34</td>\n",
       "      <td>12</td>\n",
       "    </tr>\n",
       "    <tr>\n",
       "      <th>28</th>\n",
       "      <td>I34</td>\n",
       "      <td>14</td>\n",
       "    </tr>\n",
       "    <tr>\n",
       "      <th>29</th>\n",
       "      <td>I34</td>\n",
       "      <td>18</td>\n",
       "    </tr>\n",
       "    <tr>\n",
       "      <th>...</th>\n",
       "      <td>...</td>\n",
       "      <td>...</td>\n",
       "    </tr>\n",
       "    <tr>\n",
       "      <th>309</th>\n",
       "      <td>HY9113</td>\n",
       "      <td>11</td>\n",
       "    </tr>\n",
       "    <tr>\n",
       "      <th>310</th>\n",
       "      <td>HY9113</td>\n",
       "      <td>11</td>\n",
       "    </tr>\n",
       "    <tr>\n",
       "      <th>311</th>\n",
       "      <td>HY9113</td>\n",
       "      <td>10</td>\n",
       "    </tr>\n",
       "    <tr>\n",
       "      <th>312</th>\n",
       "      <td>I100</td>\n",
       "      <td>14</td>\n",
       "    </tr>\n",
       "    <tr>\n",
       "      <th>313</th>\n",
       "      <td>I100</td>\n",
       "      <td>19</td>\n",
       "    </tr>\n",
       "    <tr>\n",
       "      <th>314</th>\n",
       "      <td>I100</td>\n",
       "      <td>15</td>\n",
       "    </tr>\n",
       "    <tr>\n",
       "      <th>315</th>\n",
       "      <td>HY32</td>\n",
       "      <td>9</td>\n",
       "    </tr>\n",
       "    <tr>\n",
       "      <th>316</th>\n",
       "      <td>HY32</td>\n",
       "      <td>12</td>\n",
       "    </tr>\n",
       "    <tr>\n",
       "      <th>317</th>\n",
       "      <td>HY32</td>\n",
       "      <td>8</td>\n",
       "    </tr>\n",
       "    <tr>\n",
       "      <th>318</th>\n",
       "      <td>I30</td>\n",
       "      <td>10</td>\n",
       "    </tr>\n",
       "    <tr>\n",
       "      <th>319</th>\n",
       "      <td>I30</td>\n",
       "      <td>12</td>\n",
       "    </tr>\n",
       "    <tr>\n",
       "      <th>320</th>\n",
       "      <td>I30</td>\n",
       "      <td>11</td>\n",
       "    </tr>\n",
       "    <tr>\n",
       "      <th>321</th>\n",
       "      <td>I75</td>\n",
       "      <td>11</td>\n",
       "    </tr>\n",
       "    <tr>\n",
       "      <th>322</th>\n",
       "      <td>I75</td>\n",
       "      <td>9</td>\n",
       "    </tr>\n",
       "    <tr>\n",
       "      <th>323</th>\n",
       "      <td>I75</td>\n",
       "      <td>10</td>\n",
       "    </tr>\n",
       "    <tr>\n",
       "      <th>324</th>\n",
       "      <td>I51</td>\n",
       "      <td>12</td>\n",
       "    </tr>\n",
       "    <tr>\n",
       "      <th>325</th>\n",
       "      <td>I51</td>\n",
       "      <td>11</td>\n",
       "    </tr>\n",
       "    <tr>\n",
       "      <th>326</th>\n",
       "      <td>I51</td>\n",
       "      <td>11</td>\n",
       "    </tr>\n",
       "    <tr>\n",
       "      <th>327</th>\n",
       "      <td>I46</td>\n",
       "      <td>17</td>\n",
       "    </tr>\n",
       "    <tr>\n",
       "      <th>328</th>\n",
       "      <td>I46</td>\n",
       "      <td>14</td>\n",
       "    </tr>\n",
       "    <tr>\n",
       "      <th>329</th>\n",
       "      <td>I46</td>\n",
       "      <td>13</td>\n",
       "    </tr>\n",
       "    <tr>\n",
       "      <th>330</th>\n",
       "      <td>I23</td>\n",
       "      <td>10</td>\n",
       "    </tr>\n",
       "    <tr>\n",
       "      <th>331</th>\n",
       "      <td>I23</td>\n",
       "      <td>14</td>\n",
       "    </tr>\n",
       "    <tr>\n",
       "      <th>332</th>\n",
       "      <td>I23</td>\n",
       "      <td>15</td>\n",
       "    </tr>\n",
       "    <tr>\n",
       "      <th>333</th>\n",
       "      <td>I69</td>\n",
       "      <td>13</td>\n",
       "    </tr>\n",
       "    <tr>\n",
       "      <th>334</th>\n",
       "      <td>I69</td>\n",
       "      <td>18</td>\n",
       "    </tr>\n",
       "    <tr>\n",
       "      <th>335</th>\n",
       "      <td>I69</td>\n",
       "      <td>13</td>\n",
       "    </tr>\n",
       "    <tr>\n",
       "      <th>336</th>\n",
       "      <td>HY33</td>\n",
       "      <td>13</td>\n",
       "    </tr>\n",
       "    <tr>\n",
       "      <th>337</th>\n",
       "      <td>HY33</td>\n",
       "      <td>16</td>\n",
       "    </tr>\n",
       "    <tr>\n",
       "      <th>338</th>\n",
       "      <td>HY33</td>\n",
       "      <td>11</td>\n",
       "    </tr>\n",
       "  </tbody>\n",
       "</table>\n",
       "<p>339 rows × 2 columns</p>\n",
       "</div>"
      ],
      "text/plain": [
       "    Lines  range\n",
       "0     I12     13\n",
       "1     I12     13\n",
       "2     I12      9\n",
       "3     I66     15\n",
       "4     I66     11\n",
       "..    ...    ...\n",
       "334   I69     18\n",
       "335   I69     13\n",
       "336  HY33     13\n",
       "337  HY33     16\n",
       "338  HY33     11\n",
       "\n",
       "[339 rows x 2 columns]"
      ]
     },
     "execution_count": 28,
     "metadata": {},
     "output_type": "execute_result"
    }
   ],
   "source": [
    "df_t\n"
   ]
  },
  {
   "cell_type": "code",
   "execution_count": 29,
   "metadata": {
    "ExecuteTime": {
     "end_time": "2019-10-12T08:10:16.778171Z",
     "start_time": "2019-10-12T08:10:16.303184Z"
    }
   },
   "outputs": [
    {
     "data": {
      "text/plain": [
       "['a',\n",
       " 'ab',\n",
       " 'a',\n",
       " 'a',\n",
       " 'a',\n",
       " 'abc',\n",
       " 'a',\n",
       " 'a',\n",
       " 'a',\n",
       " 'a',\n",
       " 'a',\n",
       " 'ab',\n",
       " 'a',\n",
       " 'ab',\n",
       " 'a',\n",
       " 'a',\n",
       " 'ab',\n",
       " 'a',\n",
       " 'a',\n",
       " 'abc',\n",
       " 'a',\n",
       " 'ab',\n",
       " 'a',\n",
       " 'ab',\n",
       " 'a',\n",
       " 'a',\n",
       " 'abc',\n",
       " 'ab',\n",
       " 'abc',\n",
       " 'a',\n",
       " 'a',\n",
       " 'a',\n",
       " 'ab',\n",
       " 'ab',\n",
       " 'ab',\n",
       " 'a',\n",
       " 'a',\n",
       " 'abc',\n",
       " 'ab',\n",
       " 'ab',\n",
       " 'ab',\n",
       " 'a',\n",
       " 'ab',\n",
       " 'ab',\n",
       " 'ab',\n",
       " 'ab',\n",
       " 'a',\n",
       " 'a',\n",
       " 'ab',\n",
       " 'ab',\n",
       " 'ab',\n",
       " 'ab',\n",
       " 'a',\n",
       " 'a',\n",
       " 'a',\n",
       " 'a',\n",
       " 'a',\n",
       " 'a',\n",
       " 'ab',\n",
       " 'ab',\n",
       " 'a',\n",
       " 'ab',\n",
       " 'ab',\n",
       " 'a',\n",
       " 'abc',\n",
       " 'ab',\n",
       " 'ab',\n",
       " 'ab',\n",
       " 'ab',\n",
       " 'a',\n",
       " 'a',\n",
       " 'a',\n",
       " 'ab',\n",
       " 'ab',\n",
       " 'ab',\n",
       " 'abc',\n",
       " 'ab',\n",
       " 'ab',\n",
       " 'abc',\n",
       " 'abc',\n",
       " 'abc',\n",
       " 'ab',\n",
       " 'ab',\n",
       " 'abc',\n",
       " 'abc',\n",
       " 'abc',\n",
       " 'ab',\n",
       " 'abc',\n",
       " 'abc',\n",
       " 'ab',\n",
       " 'abc',\n",
       " 'ab',\n",
       " 'ab',\n",
       " 'ab',\n",
       " 'ab',\n",
       " 'abc',\n",
       " 'ab',\n",
       " 'b',\n",
       " 'b',\n",
       " 'bc',\n",
       " 'b',\n",
       " 'b',\n",
       " 'b',\n",
       " 'b',\n",
       " 'bc',\n",
       " 'bc',\n",
       " 'b',\n",
       " 'b',\n",
       " 'bc',\n",
       " 'bc',\n",
       " 'bc',\n",
       " 'bc',\n",
       " 'c']"
      ]
     },
     "execution_count": 29,
     "metadata": {},
     "output_type": "execute_result"
    }
   ],
   "source": [
    "main_cal_2(0.05, df=df_t, p=pops)"
   ]
  },
  {
   "cell_type": "code",
   "execution_count": null,
   "metadata": {},
   "outputs": [],
   "source": []
  }
 ],
 "metadata": {
  "hide_input": false,
  "kernelspec": {
   "display_name": "Python 3",
   "language": "python",
   "name": "python3"
  },
  "language_info": {
   "codemirror_mode": {
    "name": "ipython",
    "version": 3
   },
   "file_extension": ".py",
   "mimetype": "text/x-python",
   "name": "python",
   "nbconvert_exporter": "python",
   "pygments_lexer": "ipython3",
   "version": "3.7.3"
  },
  "toc": {
   "base_numbering": 1,
   "nav_menu": {},
   "number_sections": true,
   "sideBar": true,
   "skip_h1_title": false,
   "title_cell": "Table of Contents",
   "title_sidebar": "Contents",
   "toc_cell": false,
   "toc_position": {},
   "toc_section_display": true,
   "toc_window_display": false
  },
  "varInspector": {
   "cols": {
    "lenName": 16,
    "lenType": 16,
    "lenVar": 40
   },
   "kernels_config": {
    "python": {
     "delete_cmd_postfix": "",
     "delete_cmd_prefix": "del ",
     "library": "var_list.py",
     "varRefreshCmd": "print(var_dic_list())"
    },
    "r": {
     "delete_cmd_postfix": ") ",
     "delete_cmd_prefix": "rm(",
     "library": "var_list.r",
     "varRefreshCmd": "cat(var_dic_list()) "
    }
   },
   "types_to_exclude": [
    "module",
    "function",
    "builtin_function_or_method",
    "instance",
    "_Feature"
   ],
   "window_display": false
  }
 },
 "nbformat": 4,
 "nbformat_minor": 2
}
